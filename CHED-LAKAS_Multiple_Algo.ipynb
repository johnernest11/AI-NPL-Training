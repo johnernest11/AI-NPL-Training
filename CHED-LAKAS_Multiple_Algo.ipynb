{
 "cells": [
  {
   "cell_type": "markdown",
   "id": "1079f9a9",
   "metadata": {},
   "source": [
    "### Text Preprocessing"
   ]
  },
  {
   "cell_type": "code",
   "execution_count": 1,
   "id": "d5273756",
   "metadata": {},
   "outputs": [
    {
     "name": "stderr",
     "output_type": "stream",
     "text": [
      "[nltk_data] Downloading package punkt to\n",
      "[nltk_data]     C:\\Users\\Admin\\AppData\\Roaming\\nltk_data...\n",
      "[nltk_data]   Package punkt is already up-to-date!\n"
     ]
    }
   ],
   "source": [
    "import pandas as pd\n",
    "import re\n",
    "import numpy as np\n",
    "import nltk\n",
    "from nltk.tokenize import word_tokenize\n",
    "nltk.download('punkt') \n",
    "#File path\n",
    "df = pd.read_csv('data_supervised.csv')\n",
    "#drop null values\n",
    "df.dropna(inplace=True)\n",
    "filename = 'english_words.txt'\n",
    "with open(filename, 'r') as file:\n",
    "    stop_words = file.read().splitlines()\n",
    "filename = 'tagalog_stop_words.txt'\n",
    "with open(filename, 'r') as file:\n",
    "    tagalog_words = file.read().splitlines()\n",
    "stop_words.extend(tagalog_words)\n",
    "def preprocess_data(article):\n",
    "    stopwords=stop_words\n",
    "    article = str(article).lower()\n",
    "    article = re.sub(\"[^a-zA-Z0-9\\s]\",'',article)\n",
    "    temp_final =[]\n",
    "    for word in article.split():\n",
    "        if word =='' or '\\r\\n' in word or word in stop_words:\n",
    "            None\n",
    "        else:\n",
    "            temp_final.append(word)\n",
    "    return word_tokenize(' '.join(temp_final))\n",
    "df['Article'] = df['Article'].apply(preprocess_data)"
   ]
  },
  {
   "cell_type": "code",
   "execution_count": 2,
   "id": "5eba0f7f",
   "metadata": {},
   "outputs": [
    {
     "data": {
      "text/html": [
       "<div>\n",
       "<style scoped>\n",
       "    .dataframe tbody tr th:only-of-type {\n",
       "        vertical-align: middle;\n",
       "    }\n",
       "\n",
       "    .dataframe tbody tr th {\n",
       "        vertical-align: top;\n",
       "    }\n",
       "\n",
       "    .dataframe thead th {\n",
       "        text-align: right;\n",
       "    }\n",
       "</style>\n",
       "<table border=\"1\" class=\"dataframe\">\n",
       "  <thead>\n",
       "    <tr style=\"text-align: right;\">\n",
       "      <th></th>\n",
       "      <th>Article</th>\n",
       "      <th>Category</th>\n",
       "    </tr>\n",
       "  </thead>\n",
       "  <tbody>\n",
       "    <tr>\n",
       "      <th>0</th>\n",
       "      <td>[manila, philippines, bad, morning, sumalubong...</td>\n",
       "      <td>Metro</td>\n",
       "    </tr>\n",
       "    <tr>\n",
       "      <th>1</th>\n",
       "      <td>[kabilang, bagong, panuntunan, operational, pr...</td>\n",
       "      <td>Bansa</td>\n",
       "    </tr>\n",
       "    <tr>\n",
       "      <th>2</th>\n",
       "      <td>[ibinulong, nang, asset, kuwago, ora, private,...</td>\n",
       "      <td>Opinyon</td>\n",
       "    </tr>\n",
       "    <tr>\n",
       "      <th>3</th>\n",
       "      <td>[manila, philippines, iniulat, nasawi, pasay, ...</td>\n",
       "      <td>Metro</td>\n",
       "    </tr>\n",
       "    <tr>\n",
       "      <th>4</th>\n",
       "      <td>[biruin, mo, nagamit, rin, niangelika, dela, c...</td>\n",
       "      <td>Showbiz</td>\n",
       "    </tr>\n",
       "  </tbody>\n",
       "</table>\n",
       "</div>"
      ],
      "text/plain": [
       "                                             Article Category\n",
       "0  [manila, philippines, bad, morning, sumalubong...    Metro\n",
       "1  [kabilang, bagong, panuntunan, operational, pr...    Bansa\n",
       "2  [ibinulong, nang, asset, kuwago, ora, private,...  Opinyon\n",
       "3  [manila, philippines, iniulat, nasawi, pasay, ...    Metro\n",
       "4  [biruin, mo, nagamit, rin, niangelika, dela, c...  Showbiz"
      ]
     },
     "execution_count": 2,
     "metadata": {},
     "output_type": "execute_result"
    }
   ],
   "source": [
    "#Check first 5 instances\n",
    "df.head()"
   ]
  },
  {
   "cell_type": "code",
   "execution_count": 3,
   "id": "d65ba180",
   "metadata": {},
   "outputs": [
    {
     "data": {
      "text/plain": [
       "Category\n",
       "Bansa         999\n",
       "Probinsiya    998\n",
       "Opinyon       996\n",
       "Showbiz       996\n",
       "Metro         995\n",
       "Palaro        995\n",
       "Name: count, dtype: int64"
      ]
     },
     "execution_count": 3,
     "metadata": {},
     "output_type": "execute_result"
    }
   ],
   "source": [
    "df['Category'].value_counts()"
   ]
  },
  {
   "cell_type": "code",
   "execution_count": 4,
   "id": "12f843fc",
   "metadata": {},
   "outputs": [],
   "source": [
    "#Importing countvectorizer\n",
    "from sklearn.feature_extraction.text import CountVectorizer"
   ]
  },
  {
   "cell_type": "code",
   "execution_count": 5,
   "id": "8f5ca69c",
   "metadata": {},
   "outputs": [],
   "source": [
    "#Creating a CountVectorizer model\n",
    "bow_transformer= CountVectorizer(analyzer=preprocess_data).fit(df['Article'])"
   ]
  },
  {
   "cell_type": "code",
   "execution_count": 6,
   "id": "5e375cdf",
   "metadata": {},
   "outputs": [
    {
     "name": "stdout",
     "output_type": "stream",
     "text": [
      "66779\n"
     ]
    }
   ],
   "source": [
    "#Print number of vocabulary/words\n",
    "print(len(bow_transformer.vocabulary_))"
   ]
  },
  {
   "cell_type": "code",
   "execution_count": 7,
   "id": "3666f576",
   "metadata": {},
   "outputs": [],
   "source": [
    "#Transform whole article to bag of words\n",
    "article_bow=bow_transformer.transform(df['Article'])"
   ]
  },
  {
   "cell_type": "code",
   "execution_count": 8,
   "id": "b2b466bc",
   "metadata": {},
   "outputs": [],
   "source": [
    "#Import TFIDF\n",
    "from sklearn.feature_extraction.text import TfidfTransformer\n",
    "#Making an instance of this transformer\n",
    "tfidf_transformer=TfidfTransformer().fit(article_bow)"
   ]
  },
  {
   "cell_type": "code",
   "execution_count": 9,
   "id": "5b3bec78",
   "metadata": {},
   "outputs": [],
   "source": [
    "#Convert the entire bag of words corpus into a tfidf corpus at once\n",
    "article_tfidf=tfidf_transformer.transform(article_bow)"
   ]
  },
  {
   "cell_type": "code",
   "execution_count": 10,
   "id": "ed7aae47",
   "metadata": {},
   "outputs": [],
   "source": [
    "from sklearn.model_selection import train_test_split"
   ]
  },
  {
   "cell_type": "code",
   "execution_count": 11,
   "id": "9607ee2b",
   "metadata": {},
   "outputs": [],
   "source": [
    "#train test split to 75%\n",
    "article_train,article_test,category_train,category_test=train_test_split(df['Article'],df['Category'],test_size=0.25)"
   ]
  },
  {
   "cell_type": "markdown",
   "id": "09601b67",
   "metadata": {},
   "source": [
    "## SVM"
   ]
  },
  {
   "cell_type": "code",
   "execution_count": 12,
   "id": "f2abc082",
   "metadata": {},
   "outputs": [],
   "source": [
    "from sklearn.pipeline import Pipeline\n",
    "#lets import SVM\n",
    "from sklearn.linear_model import SGDClassifier"
   ]
  },
  {
   "cell_type": "code",
   "execution_count": 13,
   "id": "5af38d6b",
   "metadata": {},
   "outputs": [],
   "source": [
    "#think of the pipeline as the steps or methods on a task\n",
    "text_clf_svm = Pipeline([('vect', CountVectorizer(analyzer=preprocess_data)),\n",
    "                      ('tfidf', TfidfTransformer()),\n",
    "                      ('clf-svm', SGDClassifier()),\n",
    " ])"
   ]
  },
  {
   "cell_type": "code",
   "execution_count": 14,
   "id": "98895909",
   "metadata": {},
   "outputs": [],
   "source": [
    "_=text_clf_svm.fit(article_train,category_train)"
   ]
  },
  {
   "cell_type": "code",
   "execution_count": 15,
   "id": "aa4405a4",
   "metadata": {},
   "outputs": [],
   "source": [
    "from sklearn.metrics import classification_report\n",
    "#predict the test article\n",
    "prediction=text_clf_svm.predict(article_test)"
   ]
  },
  {
   "cell_type": "code",
   "execution_count": 16,
   "id": "a4d45825",
   "metadata": {},
   "outputs": [],
   "source": [
    "# Generate a classification report\n",
    "report = classification_report(category_test, prediction)"
   ]
  },
  {
   "cell_type": "code",
   "execution_count": 17,
   "id": "80c6185d",
   "metadata": {},
   "outputs": [
    {
     "name": "stdout",
     "output_type": "stream",
     "text": [
      "              precision    recall  f1-score   support\n",
      "\n",
      "       Bansa       0.86      0.86      0.86       220\n",
      "       Metro       0.92      0.96      0.94       253\n",
      "     Opinyon       0.97      0.97      0.97       256\n",
      "      Palaro       0.98      0.99      0.99       273\n",
      "  Probinsiya       0.97      0.92      0.94       241\n",
      "     Showbiz       0.98      0.97      0.98       252\n",
      "\n",
      "    accuracy                           0.95      1495\n",
      "   macro avg       0.95      0.95      0.95      1495\n",
      "weighted avg       0.95      0.95      0.95      1495\n",
      "\n"
     ]
    }
   ],
   "source": [
    "print(report)"
   ]
  },
  {
   "cell_type": "code",
   "execution_count": 18,
   "id": "945333f7",
   "metadata": {},
   "outputs": [
    {
     "name": "stdout",
     "output_type": "stream",
     "text": [
      "[[189  18   4   3   5   1]\n",
      " [  8 243   0   0   1   1]\n",
      " [  7   0 248   0   1   0]\n",
      " [  1   0   0 270   1   1]\n",
      " [ 15   3   0   0 222   1]\n",
      " [  0   1   4   2   0 245]]\n"
     ]
    }
   ],
   "source": [
    "## Confusion Matrix\n",
    "from sklearn.metrics import confusion_matrix\n",
    "cm = confusion_matrix(category_test, prediction)\n",
    "print(cm)"
   ]
  },
  {
   "cell_type": "code",
   "execution_count": 21,
   "id": "5f7a5f79",
   "metadata": {},
   "outputs": [
    {
     "data": {
      "image/png": "[encoded data removed]",
      "text/plain": [
       "<Figure size 800x600 with 2 Axes>"
      ]
     },
     "metadata": {},
     "output_type": "display_data"
    }
   ],
   "source": [
    "# Create a heatmap to visualize the confusion matrix\n",
    "import matplotlib.pyplot as plt\n",
    "import seaborn as sns\n",
    "plt.figure(figsize=(8, 6))\n",
    "sns.heatmap(cm, annot=True, fmt=\"d\", cmap=\"Blues\",\n",
    "            xticklabels=['Bansa', 'Metro', 'Opinyon', 'Palaro','Probinsya', 'Showbiz'],  # Replace with your class labels\n",
    "            yticklabels=['Bansa', 'Metro', 'Opinyon', 'Palaro','Probinsya', 'Showbiz'])  # Replace with your class labels\n",
    "plt.xlabel('Predicted')\n",
    "plt.ylabel('Actual')\n",
    "plt.title('Confusion Matrix for SVM')\n",
    "plt.show()"
   ]
  },
  {
   "cell_type": "markdown",
   "id": "e03ca013",
   "metadata": {},
   "source": [
    "## Naive Bayes"
   ]
  },
  {
   "cell_type": "code",
   "execution_count": 22,
   "id": "4d6508a1",
   "metadata": {},
   "outputs": [],
   "source": [
    "from sklearn.pipeline import Pipeline\n",
    "#lets import SVM\n",
    "from sklearn.naive_bayes import MultinomialNB"
   ]
  },
  {
   "cell_type": "code",
   "execution_count": 23,
   "id": "9e14dd72",
   "metadata": {},
   "outputs": [],
   "source": [
    "#think of the pipeline as the steps or methods on a task\n",
    "text_clf_nb = Pipeline([('vect', CountVectorizer(analyzer=preprocess_data)),\n",
    "                      ('tfidf', TfidfTransformer()),\n",
    "                      ('clf-nb', MultinomialNB()),\n",
    " ])"
   ]
  },
  {
   "cell_type": "code",
   "execution_count": 24,
   "id": "72ef1287",
   "metadata": {},
   "outputs": [],
   "source": [
    "_=text_clf_nb.fit(article_train,category_train)"
   ]
  },
  {
   "cell_type": "code",
   "execution_count": 25,
   "id": "7122c1b0",
   "metadata": {},
   "outputs": [],
   "source": [
    "#predict the test article\n",
    "prediction=text_clf_nb.predict(article_test)"
   ]
  },
  {
   "cell_type": "code",
   "execution_count": 26,
   "id": "7b094ec9",
   "metadata": {},
   "outputs": [],
   "source": [
    "# Generate a classification report\n",
    "report = classification_report(category_test, prediction)"
   ]
  },
  {
   "cell_type": "code",
   "execution_count": 27,
   "id": "d34cb01d",
   "metadata": {},
   "outputs": [
    {
     "name": "stdout",
     "output_type": "stream",
     "text": [
      "              precision    recall  f1-score   support\n",
      "\n",
      "       Bansa       0.76      0.80      0.78       220\n",
      "       Metro       0.87      0.91      0.89       253\n",
      "     Opinyon       0.95      0.91      0.93       256\n",
      "      Palaro       0.98      0.98      0.98       273\n",
      "  Probinsiya       0.96      0.91      0.93       241\n",
      "     Showbiz       0.97      0.96      0.97       252\n",
      "\n",
      "    accuracy                           0.92      1495\n",
      "   macro avg       0.91      0.91      0.91      1495\n",
      "weighted avg       0.92      0.92      0.92      1495\n",
      "\n"
     ]
    }
   ],
   "source": [
    "print(report)"
   ]
  },
  {
   "cell_type": "code",
   "execution_count": 28,
   "id": "38c0a21e",
   "metadata": {},
   "outputs": [
    {
     "name": "stdout",
     "output_type": "stream",
     "text": [
      "[[176  27   8   3   5   1]\n",
      " [ 18 231   1   0   2   1]\n",
      " [ 14   4 232   0   3   3]\n",
      " [  4   0   0 268   0   1]\n",
      " [ 17   4   0   0 219   1]\n",
      " [  3   1   3   3   0 242]]\n"
     ]
    }
   ],
   "source": [
    "## Confusion Matrix\n",
    "from sklearn.metrics import confusion_matrix\n",
    "cm = confusion_matrix(category_test, prediction)\n",
    "print(cm)"
   ]
  },
  {
   "cell_type": "code",
   "execution_count": 30,
   "id": "eac5ec1b",
   "metadata": {},
   "outputs": [
    {
     "data": {
      "image/png": "[encoded data removed]",
      "text/plain": [
       "<Figure size 800x600 with 2 Axes>"
      ]
     },
     "metadata": {},
     "output_type": "display_data"
    }
   ],
   "source": [
    "# Create a heatmap to visualize the confusion matrix\n",
    "plt.figure(figsize=(8, 6))\n",
    "sns.heatmap(cm, annot=True, fmt=\"d\", cmap=\"flare\",\n",
    "            xticklabels=['Bansa', 'Metro', 'Opinyon', 'Palaro','Probinsya', 'Showbiz'],  # Replace with your class labels\n",
    "            yticklabels=['Bansa', 'Metro', 'Opinyon', 'Palaro','Probinsya', 'Showbiz'])  # Replace with your class labels\n",
    "plt.xlabel('Predicted')\n",
    "plt.ylabel('Actual')\n",
    "plt.title('Confusion Matrix for Naive Bayes')\n",
    "plt.show()"
   ]
  },
  {
   "cell_type": "markdown",
   "id": "18cf2646",
   "metadata": {},
   "source": [
    "## KNN"
   ]
  },
  {
   "cell_type": "code",
   "execution_count": 31,
   "id": "2dd14694",
   "metadata": {},
   "outputs": [],
   "source": [
    "#import KNN\n",
    "from sklearn.neighbors import KNeighborsClassifier"
   ]
  },
  {
   "cell_type": "code",
   "execution_count": 32,
   "id": "750091b5",
   "metadata": {},
   "outputs": [],
   "source": [
    "k = 3  # The number of neighbors to consider\n",
    "#think of the pipeline as the steps or methods on a task\n",
    "text_clf_knn = Pipeline([('vect', CountVectorizer(analyzer=preprocess_data)),\n",
    "                      ('tfidf', TfidfTransformer()),\n",
    "                      ('clf-knn', KNeighborsClassifier(n_neighbors = k)),\n",
    " ])"
   ]
  },
  {
   "cell_type": "code",
   "execution_count": 33,
   "id": "a5c3935b",
   "metadata": {},
   "outputs": [],
   "source": [
    "_=text_clf_knn.fit(article_train,category_train)"
   ]
  },
  {
   "cell_type": "code",
   "execution_count": null,
   "id": "afce4dba",
   "metadata": {},
   "outputs": [],
   "source": [
    "#predict the test article\n",
    "prediction=text_clf_knn.predict(article_test)"
   ]
  },
  {
   "cell_type": "code",
   "execution_count": null,
   "id": "d74728f4",
   "metadata": {},
   "outputs": [],
   "source": [
    "# Generate a classification report\n",
    "report = classification_report(category_test, prediction)"
   ]
  },
  {
   "cell_type": "code",
   "execution_count": null,
   "id": "dd1c0268",
   "metadata": {},
   "outputs": [],
   "source": [
    "print(report)"
   ]
  },
  {
   "cell_type": "code",
   "execution_count": null,
   "id": "ed87b555",
   "metadata": {},
   "outputs": [],
   "source": [
    "## Confusion Matrix\n",
    "from sklearn.metrics import confusion_matrix\n",
    "cm = confusion_matrix(category_test, prediction)\n",
    "print(cm)"
   ]
  },
  {
   "cell_type": "code",
   "execution_count": null,
   "id": "b304eaf4",
   "metadata": {},
   "outputs": [],
   "source": [
    "# Create a heatmap to visualize the confusion matrix\n",
    "plt.figure(figsize=(8, 6))\n",
    "sns.heatmap(cm, annot=True, fmt=\"d\", cmap=\"viridis\",\n",
    "            xticklabels=['Bansa', 'Metro', 'Opinyon', 'Palaro','Probinsya', 'Showbiz'],  # Replace with your class labels\n",
    "            yticklabels=['Bansa', 'Metro', 'Opinyon', 'Palaro','Probinsya', 'Showbiz'])  # Replace with your class labels\n",
    "plt.xlabel('Predicted')\n",
    "plt.ylabel('Actual')\n",
    "plt.title('Confusion Matrix for KNN')\n",
    "plt.show()"
   ]
  },
  {
   "cell_type": "markdown",
   "id": "eddda4c9",
   "metadata": {},
   "source": [
    "## Decision Tree Classifier"
   ]
  },
  {
   "cell_type": "code",
   "execution_count": null,
   "id": "e7c039f7",
   "metadata": {},
   "outputs": [],
   "source": [
    "from sklearn.tree import DecisionTreeClassifier"
   ]
  },
  {
   "cell_type": "code",
   "execution_count": null,
   "id": "cb929d03",
   "metadata": {},
   "outputs": [],
   "source": [
    "#think of the pipeline as the steps or methods on a task\n",
    "text_clf_dtc = Pipeline([('vect', CountVectorizer(analyzer=preprocess_data)),\n",
    "                      ('tfidf', TfidfTransformer()),\n",
    "                      ('clf-dtc', DecisionTreeClassifier()),\n",
    " ])"
   ]
  },
  {
   "cell_type": "code",
   "execution_count": null,
   "id": "4cfa0400",
   "metadata": {},
   "outputs": [],
   "source": [
    "_=text_clf_dtc.fit(article_train,category_train)"
   ]
  },
  {
   "cell_type": "code",
   "execution_count": null,
   "id": "2bc105bf",
   "metadata": {},
   "outputs": [],
   "source": [
    "#predict the test article\n",
    "prediction=text_clf_dtc.predict(article_test)"
   ]
  },
  {
   "cell_type": "code",
   "execution_count": null,
   "id": "0077b321",
   "metadata": {},
   "outputs": [],
   "source": [
    "# Generate a classification report\n",
    "report = classification_report(category_test, prediction)"
   ]
  },
  {
   "cell_type": "code",
   "execution_count": null,
   "id": "7b6f008f",
   "metadata": {},
   "outputs": [],
   "source": [
    "print(report)"
   ]
  },
  {
   "cell_type": "code",
   "execution_count": null,
   "id": "c3062c7a",
   "metadata": {},
   "outputs": [],
   "source": [
    "## Confusion Matrix\n",
    "from sklearn.metrics import confusion_matrix\n",
    "cm = confusion_matrix(category_test, prediction)\n",
    "print(cm)"
   ]
  },
  {
   "cell_type": "code",
   "execution_count": null,
   "id": "fa5e6a34",
   "metadata": {},
   "outputs": [],
   "source": [
    "# Create a heatmap to visualize the confusion matrix\n",
    "plt.figure(figsize=(8, 6))\n",
    "sns.heatmap(cm, annot=True, fmt=\"d\", cmap=\"inferno\",\n",
    "            xticklabels=['Bansa', 'Metro', 'Opinyon', 'Palaro','Probinsya', 'Showbiz'],  # Replace with your class labels\n",
    "            yticklabels=['Bansa', 'Metro', 'Opinyon', 'Palaro','Probinsya', 'Showbiz'])  # Replace with your class labels\n",
    "plt.xlabel('Predicted')\n",
    "plt.ylabel('Actual')\n",
    "plt.title('Confusion Matrix for Decision Tree Classifier')\n",
    "plt.show()"
   ]
  },
  {
   "cell_type": "markdown",
   "id": "68e22ea5",
   "metadata": {},
   "source": [
    "## Logistic Regression"
   ]
  },
  {
   "cell_type": "code",
   "execution_count": 95,
   "id": "fa62d752",
   "metadata": {},
   "outputs": [],
   "source": [
    "from sklearn.linear_model import LogisticRegression"
   ]
  },
  {
   "cell_type": "code",
   "execution_count": 96,
   "id": "78c9ae88",
   "metadata": {},
   "outputs": [],
   "source": [
    "#think of the pipeline as the steps or methods on a task\n",
    "text_clf_lr = Pipeline([('vect', CountVectorizer(analyzer=preprocess_data)),\n",
    "                      ('tfidf', TfidfTransformer()),\n",
    "                      ('clf-lr', LogisticRegression()),\n",
    " ])"
   ]
  },
  {
   "cell_type": "code",
   "execution_count": 97,
   "id": "2734ede6",
   "metadata": {},
   "outputs": [],
   "source": [
    "_=text_clf_lr.fit(article_train,category_train)"
   ]
  },
  {
   "cell_type": "code",
   "execution_count": 98,
   "id": "282836f8",
   "metadata": {},
   "outputs": [],
   "source": [
    "#predict the test article\n",
    "prediction=text_clf_lr.predict(article_test)"
   ]
  },
  {
   "cell_type": "code",
   "execution_count": 99,
   "id": "e11fce4f",
   "metadata": {},
   "outputs": [],
   "source": [
    "# Generate a classification report\n",
    "report = classification_report(category_test, prediction)"
   ]
  },
  {
   "cell_type": "code",
   "execution_count": 100,
   "id": "8106b202",
   "metadata": {},
   "outputs": [
    {
     "name": "stdout",
     "output_type": "stream",
     "text": [
      "              precision    recall  f1-score   support\n",
      "\n",
      "       Bansa       0.84      0.91      0.87       254\n",
      "       Metro       0.89      0.90      0.89       246\n",
      "     Opinyon       0.97      0.91      0.94       233\n",
      "      Palaro       0.99      0.99      0.99       276\n",
      "  Probinsiya       0.97      0.93      0.95       255\n",
      "     Showbiz       1.00      0.99      0.99       231\n",
      "\n",
      "    accuracy                           0.94      1495\n",
      "   macro avg       0.94      0.94      0.94      1495\n",
      "weighted avg       0.94      0.94      0.94      1495\n",
      "\n"
     ]
    }
   ],
   "source": [
    "print(report)"
   ]
  },
  {
   "cell_type": "code",
   "execution_count": 101,
   "id": "b813f2aa",
   "metadata": {},
   "outputs": [
    {
     "name": "stdout",
     "output_type": "stream",
     "text": [
      "[[231  14   2   1   6   0]\n",
      " [ 20 221   2   1   2   0]\n",
      " [ 14   5 212   1   0   1]\n",
      " [  0   1   2 273   0   0]\n",
      " [ 10   7   0   0 238   0]\n",
      " [  0   1   1   1   0 228]]\n"
     ]
    }
   ],
   "source": [
    "## Confusion Matrix\n",
    "from sklearn.metrics import confusion_matrix\n",
    "cm = confusion_matrix(category_test, prediction)\n",
    "print(cm)"
   ]
  },
  {
   "cell_type": "code",
   "execution_count": 102,
   "id": "8225e7d8",
   "metadata": {},
   "outputs": [
    {
     "data": {
      "image/png": "[encoded data removed]",
      "text/plain": [
       "<Figure size 800x600 with 2 Axes>"
      ]
     },
     "metadata": {},
     "output_type": "display_data"
    }
   ],
   "source": [
    "# Create a heatmap to visualize the confusion matrix\n",
    "plt.figure(figsize=(8, 6))\n",
    "sns.heatmap(cm, annot=True, fmt=\"d\", cmap=\"plasma\",\n",
    "            xticklabels=['Bansa', 'Metro', 'Opinyon', 'Palaro','Probinsya', 'Showbiz'],  # Replace with your class labels\n",
    "            yticklabels=['Bansa', 'Metro', 'Opinyon', 'Palaro','Probinsya', 'Showbiz'])  # Replace with your class labels\n",
    "plt.xlabel('Predicted')\n",
    "plt.ylabel('Actual')\n",
    "plt.title('Confusion Matrix for Logistic Regression')\n",
    "plt.show()"
   ]
  },
  {
   "cell_type": "code",
   "execution_count": null,
   "id": "8981d851",
   "metadata": {},
   "outputs": [],
   "source": []
  }
 ],
 "metadata": {
  "kernelspec": {
   "display_name": "Python 3 (ipykernel)",
   "language": "python",
   "name": "python3"
  },
  "language_info": {
   "codemirror_mode": {
    "name": "ipython",
    "version": 3
   },
   "file_extension": ".py",
   "mimetype": "text/x-python",
   "name": "python",
   "nbconvert_exporter": "python",
   "pygments_lexer": "ipython3",
   "version": "3.11.5"
  }
 },
 "nbformat": 4,
 "nbformat_minor": 5
}
