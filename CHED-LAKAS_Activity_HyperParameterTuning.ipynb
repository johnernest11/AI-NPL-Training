{
 "cells": [
  {
   "cell_type": "markdown",
   "id": "fda696f3",
   "metadata": {},
   "source": [
    "## Hyper Parameter Tuning Activity ##\n",
    "---\n",
    "Hyperparameters are like the knobs and switches of a machine learning model. They control how the model learns and makes predictions. Just as a musical instrument needs its strings tuned for the best sound, hyperparameters need to be tuned for the best model performance.\n",
    "\n",
    "When we train a machine learning model, we're essentially teaching it to make accurate predictions based on data. However, the learning process involves making choices about how quickly or slowly the model adapts to the data, how complex it can become, and other important factors. These choices are set by hyperparameters."
   ]
  },
  {
   "cell_type": "markdown",
   "id": "9802424f",
   "metadata": {},
   "source": [
    "### 1. Setting up the Environment\n",
    "---\n",
    "\n",
    "Firstly, set up a Python environment:"
   ]
  },
  {
   "cell_type": "code",
   "execution_count": 1,
   "id": "8fca0937",
   "metadata": {},
   "outputs": [],
   "source": [
    "%%capture\n",
    "#pip install scikit-learn numpy"
   ]
  },
  {
   "cell_type": "markdown",
   "id": "2fe5e351",
   "metadata": {},
   "source": [
    "### 2. Download and Prepare the Dataset\n",
    "---\n",
    "For this activity, we'll use a dataset available online called 20 newsgroups dataset. For simplicity, we'll be using bag of words representation. Although students can also integrate TF-idf"
   ]
  },
  {
   "cell_type": "code",
   "execution_count": 2,
   "id": "58362d2e",
   "metadata": {},
   "outputs": [],
   "source": [
    "from sklearn.datasets import fetch_20newsgroups\n",
    "from sklearn.feature_extraction.text import CountVectorizer\n",
    "from sklearn.svm import SVC\n",
    "from sklearn.metrics import classification_report\n",
    "from sklearn.metrics import accuracy_score\n",
    "from sklearn.model_selection import train_test_split\n",
    "\n",
    "# Fetch a subset of the 20 newsgroups dataset\n",
    "newsgroups_data = fetch_20newsgroups(subset='all', categories=['comp.graphics', 'sci.med', 'rec.autos'], remove=('headers', 'footers', 'quotes'))\n",
    "\n",
    "# Convert text to bag-of-words representation\n",
    "vectorizer = CountVectorizer(stop_words='english', max_features=2000)\n",
    "X = vectorizer.fit_transform(newsgroups_data.data).toarray()\n",
    "\n",
    "# Split data into training and test sets\n",
    "X_train, X_test, y_train, y_test = train_test_split(X, newsgroups_data.target, test_size=0.3, random_state=42)\n"
   ]
  },
  {
   "cell_type": "markdown",
   "id": "bf6baee8",
   "metadata": {},
   "source": [
    "### 3. SVM Classifier\n",
    "Setup SVM and calculate the accuracy"
   ]
  },
  {
   "cell_type": "code",
   "execution_count": 3,
   "id": "14e14438",
   "metadata": {},
   "outputs": [
    {
     "name": "stdout",
     "output_type": "stream",
     "text": [
      "Accuracy: 0.7720090293453724\n"
     ]
    }
   ],
   "source": [
    "# Create an SVC model with custom hyperparameters (students can modify these)\n",
    "clf = SVC()\n",
    "\n",
    "# Train the model\n",
    "clf.fit(X_train, y_train)\n",
    "\n",
    "# Predict on the test set\n",
    "y_pred = clf.predict(X_test)\n",
    "\n",
    "# Calculate the accuracy\n",
    "accuracy = accuracy_score(y_test, y_pred)\n",
    "print(f\"Accuracy: {accuracy}\")"
   ]
  },
  {
   "cell_type": "markdown",
   "id": "acd682a9",
   "metadata": {},
   "source": [
    "### Challenge: ###\n",
    "---\n",
    "Students can experiment with hyperparameters of the SVC function. Some of the parameters to play around with include:\n",
    "\n",
    "#### C:  Regularization parameter.\n",
    "\n",
    "#### kernel: Specifies the kernel type ('linear', 'poly', 'rbf', etc.).\n",
    "\n",
    "#### degree: Degree for polynomial kernel. Ignored by all other kernels.\n",
    "\n",
    "#### gamma: [scale, auto, float value]\n",
    "\n",
    "#### coef0: Independent term in kernel function. Only significant in 'poly' and 'sigmoid'."
   ]
  },
  {
   "cell_type": "code",
   "execution_count": 4,
   "id": "10af20d5",
   "metadata": {},
   "outputs": [
    {
     "name": "stdout",
     "output_type": "stream",
     "text": [
      "Accuracy: 0.8340857787810384\n"
     ]
    }
   ],
   "source": [
    "#Sample SVM code where I set a few hyperparameter\n",
    "from sklearn.svm import SVC\n",
    "from sklearn.metrics import accuracy_score\n",
    "\n",
    "# Setting hyperparameters\n",
    "clf = SVC(C=1.0, kernel='linear', degree=1, gamma=5.2, coef0=45.0)\n",
    "\n",
    "clf.fit(X_train, y_train)\n",
    "\n",
    "# Get predictions and accuracy\n",
    "y_pred = clf.predict(X_test)\n",
    "accuracy = accuracy_score(y_test, y_pred)\n",
    "print(\"Accuracy:\", accuracy)"
   ]
  },
  {
   "cell_type": "code",
   "execution_count": null,
   "id": "cf1627f1",
   "metadata": {},
   "outputs": [],
   "source": []
  }
 ],
 "metadata": {
  "kernelspec": {
   "display_name": "Python 3 (ipykernel)",
   "language": "python",
   "name": "python3"
  },
  "language_info": {
   "codemirror_mode": {
    "name": "ipython",
    "version": 3
   },
   "file_extension": ".py",
   "mimetype": "text/x-python",
   "name": "python",
   "nbconvert_exporter": "python",
   "pygments_lexer": "ipython3",
   "version": "3.10.10"
  }
 },
 "nbformat": 4,
 "nbformat_minor": 5
}
