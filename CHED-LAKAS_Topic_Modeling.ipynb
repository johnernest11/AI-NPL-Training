{
 "cells": [
  {
   "cell_type": "markdown",
   "id": "723eaec4",
   "metadata": {},
   "source": [
    "## Topic modeling\n",
    "is a type of statistical model used to uncover abstract topics in a collection of documents. One of the most popular techniques for this is Latent Dirichlet Allocation (LDA).\n",
    "\n",
    "Here's a simple walkthrough using the gensim library in Python to perform LDA topic modeling on the 20 Newsgroups dataset, which is a collection of newsgroup documents classified into 20 categories."
   ]
  },
  {
   "cell_type": "markdown",
   "id": "c57860c1",
   "metadata": {},
   "source": [
    "#### Step 1: Acquire Data\n",
    "The 20 Newsgroups dataset can be fetched directly using the sklearn.datasets module:"
   ]
  },
  {
   "cell_type": "code",
   "execution_count": 1,
   "id": "a8f24170",
   "metadata": {},
   "outputs": [],
   "source": [
    "from sklearn.datasets import fetch_20newsgroups\n",
    "\n",
    "newsgroups = fetch_20newsgroups(subset='all', remove=('headers', 'footers', 'quotes'))\n",
    "documents = newsgroups.data"
   ]
  },
  {
   "cell_type": "markdown",
   "id": "70dcedef",
   "metadata": {},
   "source": [
    "#### Check how many documents we have"
   ]
  },
  {
   "cell_type": "code",
   "execution_count": 2,
   "id": "57e1584e",
   "metadata": {},
   "outputs": [
    {
     "name": "stdout",
     "output_type": "stream",
     "text": [
      "18846\n"
     ]
    }
   ],
   "source": [
    "#how many documents do we have?\n",
    "print(len(documents))"
   ]
  },
  {
   "cell_type": "markdown",
   "id": "8a171ca9",
   "metadata": {},
   "source": [
    "#### Step 2: Preprocess the Data\n",
    "Before running LDA, we need to preprocess the data:\n",
    "\n",
    "Tokenize: Break down each document into words\n",
    "\n",
    "Remove stop words: Words like \"and\", \"the\", \"is\", which don't add significant meaning.\n",
    "\n",
    "Lemmatization: Convert each word to its base or dictionary form."
   ]
  },
  {
   "cell_type": "code",
   "execution_count": 3,
   "id": "b2ba7ae6",
   "metadata": {},
   "outputs": [],
   "source": [
    "import nltk\n",
    "from nltk.corpus import stopwords\n",
    "from nltk.stem import WordNetLemmatizer\n",
    "from nltk.tokenize import word_tokenize"
   ]
  },
  {
   "cell_type": "code",
   "execution_count": 4,
   "id": "07817e0e",
   "metadata": {},
   "outputs": [
    {
     "name": "stderr",
     "output_type": "stream",
     "text": [
      "[nltk_data] Downloading package stopwords to\n",
      "[nltk_data]     /Users/jagoodkid/nltk_data...\n",
      "[nltk_data]   Package stopwords is already up-to-date!\n",
      "[nltk_data] Downloading package wordnet to\n",
      "[nltk_data]     /Users/jagoodkid/nltk_data...\n",
      "[nltk_data]   Package wordnet is already up-to-date!\n",
      "[nltk_data] Downloading package punkt to /Users/jagoodkid/nltk_data...\n",
      "[nltk_data]   Package punkt is already up-to-date!\n"
     ]
    },
    {
     "data": {
      "text/plain": [
       "True"
      ]
     },
     "execution_count": 4,
     "metadata": {},
     "output_type": "execute_result"
    }
   ],
   "source": [
    "#download necessary dictionaries\n",
    "nltk.download('stopwords')\n",
    "nltk.download('wordnet')\n",
    "nltk.download('punkt')"
   ]
  },
  {
   "cell_type": "markdown",
   "id": "cd18ccd8",
   "metadata": {},
   "source": [
    "#### Try to make a set of stop words named 'stop_words'"
   ]
  },
  {
   "cell_type": "code",
   "execution_count": 5,
   "id": "a4ccd9f3",
   "metadata": {},
   "outputs": [],
   "source": [
    "#Enter your code here\n",
    "stop_words = set(stopwords.words('english'))"
   ]
  },
  {
   "cell_type": "code",
   "execution_count": 6,
   "id": "b95efe9e",
   "metadata": {},
   "outputs": [],
   "source": [
    "lemmatizer = WordNetLemmatizer()\n",
    "\n",
    "def preprocess(document):\n",
    "    tokens = word_tokenize(document.lower())\n",
    "    tokens = [lemmatizer.lemmatize(token) for token in tokens if token.isalpha() and token not in stop_words]\n",
    "    return tokens\n",
    "\n",
    "tokenized_data = [preprocess(doc) for doc in documents]"
   ]
  },
  {
   "cell_type": "markdown",
   "id": "4924f400",
   "metadata": {},
   "source": [
    "#### Step 3: Create a Dictionary and a Corpus\n",
    "The dictionary maps words to their integer representation. The corpus will be used in LDA modeling:"
   ]
  },
  {
   "cell_type": "code",
   "execution_count": 7,
   "id": "f15d0fc6",
   "metadata": {},
   "outputs": [],
   "source": [
    "from gensim.corpora import Dictionary\n",
    "\n",
    "dictionary = Dictionary(tokenized_data)\n",
    "corpus = [dictionary.doc2bow(doc) for doc in tokenized_data]"
   ]
  },
  {
   "cell_type": "markdown",
   "id": "4e2936f5",
   "metadata": {},
   "source": [
    "#### Step 4: Run LDA Model\n",
    "Let's train an LDA Model"
   ]
  },
  {
   "cell_type": "code",
   "execution_count": null,
   "id": "a0ae3ad7",
   "metadata": {},
   "outputs": [],
   "source": [
    "from gensim.models import LdaModel\n",
    "\n",
    "NUM_TOPICS = 20\n",
    "lda_model = LdaModel(corpus, num_topics=NUM_TOPICS, id2word=dictionary, passes=15)"
   ]
  },
  {
   "cell_type": "markdown",
   "id": "3a844cf4",
   "metadata": {},
   "source": [
    "#### Step 5: Display Topics\n",
    "Now, we can display the topics generated by our model:"
   ]
  },
  {
   "cell_type": "code",
   "execution_count": null,
   "id": "f96c6024",
   "metadata": {},
   "outputs": [],
   "source": [
    "topics = lda_model.print_topics(num_words=5)\n",
    "n=0\n",
    "for topic in topics:\n",
    "    temp = re.sub('[^a-zA-Z\\s]','',topic[1]).split()\n",
    "    print(f\"{n}: {','.join(temp)}\")"
   ]
  },
  {
   "cell_type": "markdown",
   "id": "403a143a",
   "metadata": {},
   "source": [
    "### Answers\n",
    "\n",
    "#### 1. print(documents)\n",
    "#### 2. print(len(documents)\n",
    "#### 3. stop_words = set(stopwords.words('english'))"
   ]
  },
  {
   "cell_type": "code",
   "execution_count": null,
   "id": "40171ddb",
   "metadata": {},
   "outputs": [],
   "source": []
  }
 ],
 "metadata": {
  "kernelspec": {
   "display_name": "Python 3 (ipykernel)",
   "language": "python",
   "name": "python3"
  },
  "language_info": {
   "codemirror_mode": {
    "name": "ipython",
    "version": 3
   },
   "file_extension": ".py",
   "mimetype": "text/x-python",
   "name": "python",
   "nbconvert_exporter": "python",
   "pygments_lexer": "ipython3",
   "version": "3.10.10"
  }
 },
 "nbformat": 4,
 "nbformat_minor": 5
}
