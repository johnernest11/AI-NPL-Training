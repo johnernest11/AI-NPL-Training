{
 "cells": [
  {
   "cell_type": "markdown",
   "id": "a0014dd8",
   "metadata": {},
   "source": [
    "## Install necessary libraries"
   ]
  },
  {
   "cell_type": "code",
   "execution_count": 13,
   "id": "2b92c4f1",
   "metadata": {},
   "outputs": [],
   "source": [
    "#installer"
   ]
  },
  {
   "cell_type": "markdown",
   "id": "1a95322b",
   "metadata": {},
   "source": [
    "## Importing libraries\n"
   ]
  },
  {
   "cell_type": "code",
   "execution_count": 16,
   "id": "04e6ef57",
   "metadata": {},
   "outputs": [
    {
     "data": {
      "text/html": [
       "<div>\n",
       "<style scoped>\n",
       "    .dataframe tbody tr th:only-of-type {\n",
       "        vertical-align: middle;\n",
       "    }\n",
       "\n",
       "    .dataframe tbody tr th {\n",
       "        vertical-align: top;\n",
       "    }\n",
       "\n",
       "    .dataframe thead th {\n",
       "        text-align: right;\n",
       "    }\n",
       "</style>\n",
       "<table border=\"1\" class=\"dataframe\">\n",
       "  <thead>\n",
       "    <tr style=\"text-align: right;\">\n",
       "      <th></th>\n",
       "      <th>Article</th>\n",
       "      <th>Category</th>\n",
       "    </tr>\n",
       "  </thead>\n",
       "  <tbody>\n",
       "    <tr>\n",
       "      <th>0</th>\n",
       "      <td>MANILA, Philippines - ï¿½Bad morningï¿½ ang su...</td>\n",
       "      <td>Metro</td>\n",
       "    </tr>\n",
       "    <tr>\n",
       "      <th>1</th>\n",
       "      <td>Kabilang sa mga bagong panuntunan saï¿½ Operat...</td>\n",
       "      <td>Bansa</td>\n",
       "    </tr>\n",
       "    <tr>\n",
       "      <th>2</th>\n",
       "      <td>IBINULONG nang mga asset ng mga kuwago ng ORA ...</td>\n",
       "      <td>Opinyon</td>\n",
       "    </tr>\n",
       "    <tr>\n",
       "      <th>3</th>\n",
       "      <td>MANILA, Philippines - Dalawa ang iniulat na na...</td>\n",
       "      <td>Metro</td>\n",
       "    </tr>\n",
       "    <tr>\n",
       "      <th>4</th>\n",
       "      <td>Biruin mo, nagamit pa rin niï¿½Angelika dela C...</td>\n",
       "      <td>Showbiz</td>\n",
       "    </tr>\n",
       "  </tbody>\n",
       "</table>\n",
       "</div>"
      ],
      "text/plain": [
       "                                             Article Category\n",
       "0  MANILA, Philippines - ï¿½Bad morningï¿½ ang su...    Metro\n",
       "1  Kabilang sa mga bagong panuntunan saï¿½ Operat...    Bansa\n",
       "2  IBINULONG nang mga asset ng mga kuwago ng ORA ...  Opinyon\n",
       "3  MANILA, Philippines - Dalawa ang iniulat na na...    Metro\n",
       "4  Biruin mo, nagamit pa rin niï¿½Angelika dela C...  Showbiz"
      ]
     },
     "execution_count": 16,
     "metadata": {},
     "output_type": "execute_result"
    }
   ],
   "source": [
    "import pandas as pd\n",
    "#import dataset\n",
    "df = pd.read_csv('data_supervised.csv')\n",
    "#check the first 5 instances\n",
    "df.head()"
   ]
  },
  {
   "cell_type": "markdown",
   "id": "cf8639f6",
   "metadata": {},
   "source": [
    "# Pipeline\n",
    "# ----------------------------------------------\n",
    "## 1. Lowercasing\n",
    "## 2. Special Character Removal\n",
    "## 3. Stopword Removal\n",
    "## 4. Tokenization"
   ]
  },
  {
   "cell_type": "markdown",
   "id": "cd346900",
   "metadata": {},
   "source": [
    "# ---------------------------------------------------"
   ]
  },
  {
   "cell_type": "markdown",
   "id": "0b145665",
   "metadata": {},
   "source": [
    "# Lowercasing Dataset"
   ]
  },
  {
   "cell_type": "code",
   "execution_count": 17,
   "id": "e8b3dfb5",
   "metadata": {},
   "outputs": [
    {
     "name": "stdout",
     "output_type": "stream",
     "text": [
      "MANILA, Philippines - ï¿½Bad morningï¿½ ang sumalubong sa libu-libong pasahero ng Metro Rail Transit (MRT-3) kahapon ng umaga makaraang pababain ng tren dahil sa dalawang beses na aberya sa biyahe.\r\n",
      "Nabatid na pinababa ang mga pasahero ng isang tren sa bahagi ng Santolan Station southbound, dakong alas-5:30 ng umaga matapos bumaba ang boltahe ng kuryente.\r\n",
      "Ayon sa MRT-3, kinakailaï¿½ngang pababain ang mga pasahero at itigil ang operasyon dahil magiging delikado ang pagpapatakbo ng tren at makakaapekto sa preno nito.\r\n",
      "Ayon kay MRT-3 General Manager Ramon Buenafe, depektibong pintuan naman ang dahilan nang pansamantaï¿½lang pagtigil ng southbound trip ng MRT-3 sa GMA-Kamuning Station, pagitan ng Cubao station, dakong alas-7:00 ng umaga.\r\n",
      "Nabatid na ito na ang ikatlong sunod na araw ngayong Linggo na naperwisyo ng aberya ang mga pasahero ng MRT-3.\r\n",
      "Matatandaan nitong Miyerkules lamang ay tumirik ang isang northbound na tren ng MRT sa Shaw Boulevard station, tumirik din ang isang tren sa pagitan naman ng Guadaï¿½lupe at Boni Station nitong Martes.\r\n",
      "\n"
     ]
    }
   ],
   "source": [
    "#testing for a single case\n",
    "test_case = df['Article'][0]\n",
    "print(test_case)"
   ]
  },
  {
   "cell_type": "code",
   "execution_count": 18,
   "id": "ed7fd378",
   "metadata": {},
   "outputs": [
    {
     "name": "stdout",
     "output_type": "stream",
     "text": [
      "manila, philippines - ï¿½bad morningï¿½ ang sumalubong sa libu-libong pasahero ng metro rail transit (mrt-3) kahapon ng umaga makaraang pababain ng tren dahil sa dalawang beses na aberya sa biyahe.\r\n",
      "nabatid na pinababa ang mga pasahero ng isang tren sa bahagi ng santolan station southbound, dakong alas-5:30 ng umaga matapos bumaba ang boltahe ng kuryente.\r\n",
      "ayon sa mrt-3, kinakailaï¿½ngang pababain ang mga pasahero at itigil ang operasyon dahil magiging delikado ang pagpapatakbo ng tren at makakaapekto sa preno nito.\r\n",
      "ayon kay mrt-3 general manager ramon buenafe, depektibong pintuan naman ang dahilan nang pansamantaï¿½lang pagtigil ng southbound trip ng mrt-3 sa gma-kamuning station, pagitan ng cubao station, dakong alas-7:00 ng umaga.\r\n",
      "nabatid na ito na ang ikatlong sunod na araw ngayong linggo na naperwisyo ng aberya ang mga pasahero ng mrt-3.\r\n",
      "matatandaan nitong miyerkules lamang ay tumirik ang isang northbound na tren ng mrt sa shaw boulevard station, tumirik din ang isang tren sa pagitan naman ng guadaï¿½lupe at boni station nitong martes.\r\n",
      "\n"
     ]
    }
   ],
   "source": [
    "test_case = test_case.lower()\n",
    "print(test_case)"
   ]
  },
  {
   "cell_type": "code",
   "execution_count": 19,
   "id": "2be5de5f",
   "metadata": {},
   "outputs": [
    {
     "data": {
      "text/html": [
       "<div>\n",
       "<style scoped>\n",
       "    .dataframe tbody tr th:only-of-type {\n",
       "        vertical-align: middle;\n",
       "    }\n",
       "\n",
       "    .dataframe tbody tr th {\n",
       "        vertical-align: top;\n",
       "    }\n",
       "\n",
       "    .dataframe thead th {\n",
       "        text-align: right;\n",
       "    }\n",
       "</style>\n",
       "<table border=\"1\" class=\"dataframe\">\n",
       "  <thead>\n",
       "    <tr style=\"text-align: right;\">\n",
       "      <th></th>\n",
       "      <th>Article</th>\n",
       "      <th>Category</th>\n",
       "    </tr>\n",
       "  </thead>\n",
       "  <tbody>\n",
       "    <tr>\n",
       "      <th>0</th>\n",
       "      <td>manila, philippines - ï¿½bad morningï¿½ ang su...</td>\n",
       "      <td>Metro</td>\n",
       "    </tr>\n",
       "    <tr>\n",
       "      <th>1</th>\n",
       "      <td>kabilang sa mga bagong panuntunan saï¿½ operat...</td>\n",
       "      <td>Bansa</td>\n",
       "    </tr>\n",
       "    <tr>\n",
       "      <th>2</th>\n",
       "      <td>ibinulong nang mga asset ng mga kuwago ng ora ...</td>\n",
       "      <td>Opinyon</td>\n",
       "    </tr>\n",
       "    <tr>\n",
       "      <th>3</th>\n",
       "      <td>manila, philippines - dalawa ang iniulat na na...</td>\n",
       "      <td>Metro</td>\n",
       "    </tr>\n",
       "    <tr>\n",
       "      <th>4</th>\n",
       "      <td>biruin mo, nagamit pa rin niï¿½angelika dela c...</td>\n",
       "      <td>Showbiz</td>\n",
       "    </tr>\n",
       "    <tr>\n",
       "      <th>5</th>\n",
       "      <td>philstar.com/file\\r\\nmanila, philippines ï¿½ m...</td>\n",
       "      <td>Metro</td>\n",
       "    </tr>\n",
       "    <tr>\n",
       "      <th>6</th>\n",
       "      <td>manila, philippines - ipinalalagay na ang tabr...</td>\n",
       "      <td>Palaro</td>\n",
       "    </tr>\n",
       "    <tr>\n",
       "      <th>7</th>\n",
       "      <td>inangatan ni marcio lassiter ng san miguel sin...</td>\n",
       "      <td>Palaro</td>\n",
       "    </tr>\n",
       "    <tr>\n",
       "      <th>8</th>\n",
       "      <td>pik: balik-recording si willie revillame dahil...</td>\n",
       "      <td>Showbiz</td>\n",
       "    </tr>\n",
       "    <tr>\n",
       "      <th>9</th>\n",
       "      <td>manila, philippines ï¿½ naniniwala pa rin ang ...</td>\n",
       "      <td>Bansa</td>\n",
       "    </tr>\n",
       "  </tbody>\n",
       "</table>\n",
       "</div>"
      ],
      "text/plain": [
       "                                             Article Category\n",
       "0  manila, philippines - ï¿½bad morningï¿½ ang su...    Metro\n",
       "1  kabilang sa mga bagong panuntunan saï¿½ operat...    Bansa\n",
       "2  ibinulong nang mga asset ng mga kuwago ng ora ...  Opinyon\n",
       "3  manila, philippines - dalawa ang iniulat na na...    Metro\n",
       "4  biruin mo, nagamit pa rin niï¿½angelika dela c...  Showbiz\n",
       "5  philstar.com/file\\r\\nmanila, philippines ï¿½ m...    Metro\n",
       "6  manila, philippines - ipinalalagay na ang tabr...   Palaro\n",
       "7  inangatan ni marcio lassiter ng san miguel sin...   Palaro\n",
       "8  pik: balik-recording si willie revillame dahil...  Showbiz\n",
       "9  manila, philippines ï¿½ naniniwala pa rin ang ...    Bansa"
      ]
     },
     "execution_count": 19,
     "metadata": {},
     "output_type": "execute_result"
    }
   ],
   "source": [
    "#applying it to the dataset\n",
    "df['Article'] = df['Article'].apply(lambda x: str(x).lower())\n",
    "#checking for first 10 instances\n",
    "df.head(10)"
   ]
  },
  {
   "cell_type": "markdown",
   "id": "30a4b98b",
   "metadata": {},
   "source": [
    "# Special Character Removal"
   ]
  },
  {
   "cell_type": "code",
   "execution_count": 20,
   "id": "2f69eb9d",
   "metadata": {},
   "outputs": [
    {
     "name": "stdout",
     "output_type": "stream",
     "text": [
      "manila, philippines - ï¿½bad morningï¿½ ang sumalubong sa libu-libong pasahero ng metro rail transit (mrt-3) kahapon ng umaga makaraang pababain ng tren dahil sa dalawang beses na aberya sa biyahe.\r\n",
      "nabatid na pinababa ang mga pasahero ng isang tren sa bahagi ng santolan station southbound, dakong alas-5:30 ng umaga matapos bumaba ang boltahe ng kuryente.\r\n",
      "ayon sa mrt-3, kinakailaï¿½ngang pababain ang mga pasahero at itigil ang operasyon dahil magiging delikado ang pagpapatakbo ng tren at makakaapekto sa preno nito.\r\n",
      "ayon kay mrt-3 general manager ramon buenafe, depektibong pintuan naman ang dahilan nang pansamantaï¿½lang pagtigil ng southbound trip ng mrt-3 sa gma-kamuning station, pagitan ng cubao station, dakong alas-7:00 ng umaga.\r\n",
      "nabatid na ito na ang ikatlong sunod na araw ngayong linggo na naperwisyo ng aberya ang mga pasahero ng mrt-3.\r\n",
      "matatandaan nitong miyerkules lamang ay tumirik ang isang northbound na tren ng mrt sa shaw boulevard station, tumirik din ang isang tren sa pagitan naman ng guadaï¿½lupe at boni station nitong martes.\r\n",
      "\n"
     ]
    }
   ],
   "source": [
    "#testing for a single case\n",
    "print(test_case)"
   ]
  },
  {
   "cell_type": "code",
   "execution_count": 21,
   "id": "1953edd3",
   "metadata": {},
   "outputs": [
    {
     "name": "stdout",
     "output_type": "stream",
     "text": [
      "manila philippines  bad morning ang sumalubong sa libulibong pasahero ng metro rail transit mrt3 kahapon ng umaga makaraang pababain ng tren dahil sa dalawang beses na aberya sa biyahe\r\n",
      "nabatid na pinababa ang mga pasahero ng isang tren sa bahagi ng santolan station southbound dakong alas530 ng umaga matapos bumaba ang boltahe ng kuryente\r\n",
      "ayon sa mrt3 kinakailangang pababain ang mga pasahero at itigil ang operasyon dahil magiging delikado ang pagpapatakbo ng tren at makakaapekto sa preno nito\r\n",
      "ayon kay mrt3 general manager ramon buenafe depektibong pintuan naman ang dahilan nang pansamantalang pagtigil ng southbound trip ng mrt3 sa gmakamuning station pagitan ng cubao station dakong alas700 ng umaga\r\n",
      "nabatid na ito na ang ikatlong sunod na araw ngayong linggo na naperwisyo ng aberya ang mga pasahero ng mrt3\r\n",
      "matatandaan nitong miyerkules lamang ay tumirik ang isang northbound na tren ng mrt sa shaw boulevard station tumirik din ang isang tren sa pagitan naman ng guadalupe at boni station nitong martes\r\n",
      "\n"
     ]
    }
   ],
   "source": [
    "#import library regex\n",
    "import re\n",
    "#remove all instances that aren't a-z or 0-9\n",
    "test_case = re.sub(\"[^a-zA-Z0-9\\s]\",'',test_case)\n",
    "print(test_case)"
   ]
  },
  {
   "cell_type": "code",
   "execution_count": 22,
   "id": "f94643f7",
   "metadata": {},
   "outputs": [
    {
     "data": {
      "text/html": [
       "<div>\n",
       "<style scoped>\n",
       "    .dataframe tbody tr th:only-of-type {\n",
       "        vertical-align: middle;\n",
       "    }\n",
       "\n",
       "    .dataframe tbody tr th {\n",
       "        vertical-align: top;\n",
       "    }\n",
       "\n",
       "    .dataframe thead th {\n",
       "        text-align: right;\n",
       "    }\n",
       "</style>\n",
       "<table border=\"1\" class=\"dataframe\">\n",
       "  <thead>\n",
       "    <tr style=\"text-align: right;\">\n",
       "      <th></th>\n",
       "      <th>Article</th>\n",
       "      <th>Category</th>\n",
       "    </tr>\n",
       "  </thead>\n",
       "  <tbody>\n",
       "    <tr>\n",
       "      <th>0</th>\n",
       "      <td>manila philippines  bad morning ang sumalubong...</td>\n",
       "      <td>Metro</td>\n",
       "    </tr>\n",
       "    <tr>\n",
       "      <th>1</th>\n",
       "      <td>kabilang sa mga bagong panuntunan sa operation...</td>\n",
       "      <td>Bansa</td>\n",
       "    </tr>\n",
       "    <tr>\n",
       "      <th>2</th>\n",
       "      <td>ibinulong nang mga asset ng mga kuwago ng ora ...</td>\n",
       "      <td>Opinyon</td>\n",
       "    </tr>\n",
       "    <tr>\n",
       "      <th>3</th>\n",
       "      <td>manila philippines  dalawa ang iniulat na nasa...</td>\n",
       "      <td>Metro</td>\n",
       "    </tr>\n",
       "    <tr>\n",
       "      <th>4</th>\n",
       "      <td>biruin mo nagamit pa rin niangelika dela cruza...</td>\n",
       "      <td>Showbiz</td>\n",
       "    </tr>\n",
       "    <tr>\n",
       "      <th>5</th>\n",
       "      <td>philstarcomfile\\r\\nmanila philippines  mas pai...</td>\n",
       "      <td>Metro</td>\n",
       "    </tr>\n",
       "    <tr>\n",
       "      <th>6</th>\n",
       "      <td>manila philippines  ipinalalagay na ang tabriz...</td>\n",
       "      <td>Palaro</td>\n",
       "    </tr>\n",
       "    <tr>\n",
       "      <th>7</th>\n",
       "      <td>inangatan ni marcio lassiter ng san miguel sin...</td>\n",
       "      <td>Palaro</td>\n",
       "    </tr>\n",
       "    <tr>\n",
       "      <th>8</th>\n",
       "      <td>pik balikrecording si willie revillame dahil s...</td>\n",
       "      <td>Showbiz</td>\n",
       "    </tr>\n",
       "    <tr>\n",
       "      <th>9</th>\n",
       "      <td>manila philippines  naniniwala pa rin ang simb...</td>\n",
       "      <td>Bansa</td>\n",
       "    </tr>\n",
       "  </tbody>\n",
       "</table>\n",
       "</div>"
      ],
      "text/plain": [
       "                                             Article Category\n",
       "0  manila philippines  bad morning ang sumalubong...    Metro\n",
       "1  kabilang sa mga bagong panuntunan sa operation...    Bansa\n",
       "2  ibinulong nang mga asset ng mga kuwago ng ora ...  Opinyon\n",
       "3  manila philippines  dalawa ang iniulat na nasa...    Metro\n",
       "4  biruin mo nagamit pa rin niangelika dela cruza...  Showbiz\n",
       "5  philstarcomfile\\r\\nmanila philippines  mas pai...    Metro\n",
       "6  manila philippines  ipinalalagay na ang tabriz...   Palaro\n",
       "7  inangatan ni marcio lassiter ng san miguel sin...   Palaro\n",
       "8  pik balikrecording si willie revillame dahil s...  Showbiz\n",
       "9  manila philippines  naniniwala pa rin ang simb...    Bansa"
      ]
     },
     "execution_count": 22,
     "metadata": {},
     "output_type": "execute_result"
    }
   ],
   "source": [
    "#apply to all \n",
    "df['Article'] = df['Article'].apply(lambda x: re.sub(\"[^a-zA-Z0-9\\s]\",'',x))\n",
    "df.head(10)"
   ]
  },
  {
   "cell_type": "markdown",
   "id": "c1207158",
   "metadata": {},
   "source": [
    "#### Take note that \\r\\n are text positioning which isn't actually part of the text itself. Let's print the 6th instance where we can see \\r\\n"
   ]
  },
  {
   "cell_type": "code",
   "execution_count": 23,
   "id": "e6a736af",
   "metadata": {},
   "outputs": [
    {
     "name": "stdout",
     "output_type": "stream",
     "text": [
      "philstarcomfile\r\n",
      "manila philippines  mas paiigtingin pa ng bureau of immigration bi at philippine overseas employment agencypoea ang kanilangkampanya laban sa mga illegal recruiter kung saan sinabi ng mga ito nabilang na ang arawng mga ito sa pambibiktima ng mga filipinong nais magtrabaho sa ibang bansa\r\n",
      "ayon kay bi commissioner siegfred mison nagkasundo ang dalawang ahensya ng pamahalaanat ng interagency council against trafficking ng bi na habulin ang mga tiwaling recruitmentagency na nasa likod ng human trafficking\r\n",
      "sinabi ni mison na inatasan na nito ang lahat ng immigration officers na hanapin ang lahatng posibleng biktima ng human trafficking at illegal recruitment bago pa makaalis angsinumang biktima\r\n",
      "una nito binawi ng poea ang lisensya ng ilang recruitment agencies na napatunayanggumagamit ng pekeng dokumento\r\n",
      "kabilang dito ang chanceteam international services inc na nagtangkang magdeploy nghousehold service workers gamit ang double visas na naharang ng immigration officers sanaia\r\n",
      "\n"
     ]
    }
   ],
   "source": [
    "print(df['Article'][5])"
   ]
  },
  {
   "cell_type": "markdown",
   "id": "660b7966",
   "metadata": {},
   "source": [
    "# Stop word Removal\n",
    "\n",
    "### Example english stopwords:\n",
    "#### the, is, and\n",
    "### Example tagalog stopwords:\n",
    "#### at, pala, kaya"
   ]
  },
  {
   "cell_type": "code",
   "execution_count": 24,
   "id": "82a4d7d3",
   "metadata": {},
   "outputs": [
    {
     "name": "stderr",
     "output_type": "stream",
     "text": [
      "[nltk_data] Downloading package stopwords to\n",
      "[nltk_data]     C:\\Users\\Admin\\AppData\\Roaming\\nltk_data...\n",
      "[nltk_data]   Package stopwords is already up-to-date!\n"
     ]
    },
    {
     "data": {
      "text/plain": [
       "True"
      ]
     },
     "execution_count": 24,
     "metadata": {},
     "output_type": "execute_result"
    }
   ],
   "source": [
    "import nltk\n",
    "from nltk.corpus import stopwords\n",
    "nltk.download('stopwords')"
   ]
  },
  {
   "cell_type": "code",
   "execution_count": 25,
   "id": "4a0c8f66",
   "metadata": {},
   "outputs": [
    {
     "name": "stdout",
     "output_type": "stream",
     "text": [
      "['i', 'me', 'my', 'myself', 'we', 'our', 'ours', 'ourselves', 'you', \"you're\", \"you've\", \"you'll\", \"you'd\", 'your', 'yours', 'yourself', 'yourselves', 'he', 'him', 'his', 'himself', 'she', \"she's\", 'her', 'hers', 'herself', 'it', \"it's\", 'its', 'itself', 'they', 'them', 'their', 'theirs', 'themselves', 'what', 'which', 'who', 'whom', 'this', 'that', \"that'll\", 'these', 'those', 'am', 'is', 'are', 'was', 'were', 'be', 'been', 'being', 'have', 'has', 'had', 'having', 'do', 'does', 'did', 'doing', 'a', 'an', 'the', 'and', 'but', 'if', 'or', 'because', 'as', 'until', 'while', 'of', 'at', 'by', 'for', 'with', 'about', 'against', 'between', 'into', 'through', 'during', 'before', 'after', 'above', 'below', 'to', 'from', 'up', 'down', 'in', 'out', 'on', 'off', 'over', 'under', 'again', 'further', 'then', 'once', 'here', 'there', 'when', 'where', 'why', 'how', 'all', 'any', 'both', 'each', 'few', 'more', 'most', 'other', 'some', 'such', 'no', 'nor', 'not', 'only', 'own', 'same', 'so', 'than', 'too', 'very', 's', 't', 'can', 'will', 'just', 'don', \"don't\", 'should', \"should've\", 'now', 'd', 'll', 'm', 'o', 're', 've', 'y', 'ain', 'aren', \"aren't\", 'couldn', \"couldn't\", 'didn', \"didn't\", 'doesn', \"doesn't\", 'hadn', \"hadn't\", 'hasn', \"hasn't\", 'haven', \"haven't\", 'isn', \"isn't\", 'ma', 'mightn', \"mightn't\", 'mustn', \"mustn't\", 'needn', \"needn't\", 'shan', \"shan't\", 'shouldn', \"shouldn't\", 'wasn', \"wasn't\", 'weren', \"weren't\", 'won', \"won't\", 'wouldn', \"wouldn't\"]\n"
     ]
    }
   ],
   "source": [
    "#download and import english stopwords\n",
    "stop_words = stopwords.words('english')\n",
    "print(stop_words)"
   ]
  },
  {
   "cell_type": "code",
   "execution_count": 26,
   "id": "fd85d071",
   "metadata": {},
   "outputs": [
    {
     "name": "stdout",
     "output_type": "stream",
     "text": [
      "['ako', 'sa', 'akin', 'ko', 'aking', 'sarili', 'kami', 'atin', 'ang', 'aming', 'amin', 'ating', 'ka', 'iyong', 'iyo', 'inyong', 'siya', 'kanya', 'mismo', 'ito', 'nito', 'kanyang', 'sila', 'nila', 'kanila', 'kanilang', 'kung', 'ano', 'alin', 'sino', 'kanino', 'na', 'mga', 'iyon', 'am', 'ay', 'maging', 'naging', 'mayroon', 'may', 'nagkaroon', 'pagkakaroon', 'gumawa', 'ginagawa', 'ginawa', 'paggawa', 'ibig', 'dapat', 'maaari', 'marapat', 'kong', 'ikaw', 'tayo', 'hindi', 'namin', 'gusto', 'nais', 'niyang', 'nilang', 'niya', 'huwag', 'ginawang', 'gagawin', 'maaaring', 'sabihin', 'narito', 'kapag', 'ni', 'nasaan', 'bakit', 'paano', 'kailangan', 'walang', 'katiyakan', 'isang', 'at', 'pero', 'o', 'dahil', 'bilang', 'hanggang', 'habang', 'ng', 'pamamagitan', 'para', 'tungkol', 'laban', 'pagitan', 'panahon', 'bago', 'pagkatapos', 'itaas', 'ibaba', 'mula', 'pataas', 'pababa', 'palabas', 'ibabaw', 'ilalim', 'muli', 'pa', 'minsan', 'dito', 'doon', 'saan', 'lahat', 'anumang', 'kapwa', 'bawat', 'ilan', 'karamihan', 'iba', 'tulad', 'lamang', 'pareho', 'kaya', 'kaysa', 'masyado', 'napaka', 'isa', 'bababa', 'kulang', 'marami', 'ngayon', 'kailanman', 'sabi', 'nabanggit', 'din', 'kumuha', 'pumunta', 'pumupunta', 'ilagay', 'makita', 'nakita', 'katulad', 'mahusay', 'likod', 'kahit', 'paraan', 'noon', 'gayunman', 'dalawa', 'tatlo', 'apat', 'lima', 'una', 'pangalawa']\n"
     ]
    }
   ],
   "source": [
    "#add tagalog stop words\n",
    "#import tagalog stop words file and convert it to list\n",
    "filename = 'tagalog_stop_words.txt'\n",
    "with open(filename, 'r') as file:\n",
    "    tagalog_words = file.read().splitlines()\n",
    "print(tagalog_words)"
   ]
  },
  {
   "cell_type": "code",
   "execution_count": 27,
   "id": "11a48bf1",
   "metadata": {},
   "outputs": [
    {
     "name": "stdout",
     "output_type": "stream",
     "text": [
      "['i', 'me', 'my', 'myself', 'we', 'our', 'ours', 'ourselves', 'you', \"you're\", \"you've\", \"you'll\", \"you'd\", 'your', 'yours', 'yourself', 'yourselves', 'he', 'him', 'his', 'himself', 'she', \"she's\", 'her', 'hers', 'herself', 'it', \"it's\", 'its', 'itself', 'they', 'them', 'their', 'theirs', 'themselves', 'what', 'which', 'who', 'whom', 'this', 'that', \"that'll\", 'these', 'those', 'am', 'is', 'are', 'was', 'were', 'be', 'been', 'being', 'have', 'has', 'had', 'having', 'do', 'does', 'did', 'doing', 'a', 'an', 'the', 'and', 'but', 'if', 'or', 'because', 'as', 'until', 'while', 'of', 'at', 'by', 'for', 'with', 'about', 'against', 'between', 'into', 'through', 'during', 'before', 'after', 'above', 'below', 'to', 'from', 'up', 'down', 'in', 'out', 'on', 'off', 'over', 'under', 'again', 'further', 'then', 'once', 'here', 'there', 'when', 'where', 'why', 'how', 'all', 'any', 'both', 'each', 'few', 'more', 'most', 'other', 'some', 'such', 'no', 'nor', 'not', 'only', 'own', 'same', 'so', 'than', 'too', 'very', 's', 't', 'can', 'will', 'just', 'don', \"don't\", 'should', \"should've\", 'now', 'd', 'll', 'm', 'o', 're', 've', 'y', 'ain', 'aren', \"aren't\", 'couldn', \"couldn't\", 'didn', \"didn't\", 'doesn', \"doesn't\", 'hadn', \"hadn't\", 'hasn', \"hasn't\", 'haven', \"haven't\", 'isn', \"isn't\", 'ma', 'mightn', \"mightn't\", 'mustn', \"mustn't\", 'needn', \"needn't\", 'shan', \"shan't\", 'shouldn', \"shouldn't\", 'wasn', \"wasn't\", 'weren', \"weren't\", 'won', \"won't\", 'wouldn', \"wouldn't\", 'ako', 'sa', 'akin', 'ko', 'aking', 'sarili', 'kami', 'atin', 'ang', 'aming', 'amin', 'ating', 'ka', 'iyong', 'iyo', 'inyong', 'siya', 'kanya', 'mismo', 'ito', 'nito', 'kanyang', 'sila', 'nila', 'kanila', 'kanilang', 'kung', 'ano', 'alin', 'sino', 'kanino', 'na', 'mga', 'iyon', 'am', 'ay', 'maging', 'naging', 'mayroon', 'may', 'nagkaroon', 'pagkakaroon', 'gumawa', 'ginagawa', 'ginawa', 'paggawa', 'ibig', 'dapat', 'maaari', 'marapat', 'kong', 'ikaw', 'tayo', 'hindi', 'namin', 'gusto', 'nais', 'niyang', 'nilang', 'niya', 'huwag', 'ginawang', 'gagawin', 'maaaring', 'sabihin', 'narito', 'kapag', 'ni', 'nasaan', 'bakit', 'paano', 'kailangan', 'walang', 'katiyakan', 'isang', 'at', 'pero', 'o', 'dahil', 'bilang', 'hanggang', 'habang', 'ng', 'pamamagitan', 'para', 'tungkol', 'laban', 'pagitan', 'panahon', 'bago', 'pagkatapos', 'itaas', 'ibaba', 'mula', 'pataas', 'pababa', 'palabas', 'ibabaw', 'ilalim', 'muli', 'pa', 'minsan', 'dito', 'doon', 'saan', 'lahat', 'anumang', 'kapwa', 'bawat', 'ilan', 'karamihan', 'iba', 'tulad', 'lamang', 'pareho', 'kaya', 'kaysa', 'masyado', 'napaka', 'isa', 'bababa', 'kulang', 'marami', 'ngayon', 'kailanman', 'sabi', 'nabanggit', 'din', 'kumuha', 'pumunta', 'pumupunta', 'ilagay', 'makita', 'nakita', 'katulad', 'mahusay', 'likod', 'kahit', 'paraan', 'noon', 'gayunman', 'dalawa', 'tatlo', 'apat', 'lima', 'una', 'pangalawa']\n"
     ]
    }
   ],
   "source": [
    "#add tagalog stop_words to english stopwords\n",
    "stop_words.extend(tagalog_words)\n",
    "print(stop_words)"
   ]
  },
  {
   "cell_type": "markdown",
   "id": "bb9d65da",
   "metadata": {},
   "source": [
    "### Removing all stopwords from the dataset"
   ]
  },
  {
   "cell_type": "code",
   "execution_count": 28,
   "id": "a1e9398c",
   "metadata": {},
   "outputs": [
    {
     "name": "stdout",
     "output_type": "stream",
     "text": [
      "manila philippines  bad morning ang sumalubong sa libulibong pasahero ng metro rail transit mrt3 kahapon ng umaga makaraang pababain ng tren dahil sa dalawang beses na aberya sa biyahe\r\n",
      "nabatid na pinababa ang mga pasahero ng isang tren sa bahagi ng santolan station southbound dakong alas530 ng umaga matapos bumaba ang boltahe ng kuryente\r\n",
      "ayon sa mrt3 kinakailangang pababain ang mga pasahero at itigil ang operasyon dahil magiging delikado ang pagpapatakbo ng tren at makakaapekto sa preno nito\r\n",
      "ayon kay mrt3 general manager ramon buenafe depektibong pintuan naman ang dahilan nang pansamantalang pagtigil ng southbound trip ng mrt3 sa gmakamuning station pagitan ng cubao station dakong alas700 ng umaga\r\n",
      "nabatid na ito na ang ikatlong sunod na araw ngayong linggo na naperwisyo ng aberya ang mga pasahero ng mrt3\r\n",
      "matatandaan nitong miyerkules lamang ay tumirik ang isang northbound na tren ng mrt sa shaw boulevard station tumirik din ang isang tren sa pagitan naman ng guadalupe at boni station nitong martes\r\n",
      "\n"
     ]
    }
   ],
   "source": [
    "#testing it for a single case\n",
    "print(test_case)"
   ]
  },
  {
   "cell_type": "code",
   "execution_count": 29,
   "id": "0d9a53d6",
   "metadata": {},
   "outputs": [
    {
     "name": "stdout",
     "output_type": "stream",
     "text": [
      "['manila', 'philippines', 'bad', 'morning', 'sumalubong', 'libulibong', 'pasahero', 'metro', 'rail', 'transit', 'mrt3', 'kahapon', 'umaga', 'makaraang', 'pababain', 'tren', 'dalawang', 'beses', 'aberya', 'biyahe', 'nabatid', 'pinababa', 'pasahero', 'tren', 'bahagi', 'santolan', 'station', 'southbound', 'dakong', 'alas530', 'umaga', 'matapos', 'bumaba', 'boltahe', 'kuryente', 'ayon', 'mrt3', 'kinakailangang', 'pababain', 'pasahero', 'itigil', 'operasyon', 'magiging', 'delikado', 'pagpapatakbo', 'tren', 'makakaapekto', 'preno', 'ayon', 'kay', 'mrt3', 'general', 'manager', 'ramon', 'buenafe', 'depektibong', 'pintuan', 'naman', 'dahilan', 'nang', 'pansamantalang', 'pagtigil', 'southbound', 'trip', 'mrt3', 'gmakamuning', 'station', 'cubao', 'station', 'dakong', 'alas700', 'umaga', 'nabatid', 'ikatlong', 'sunod', 'araw', 'ngayong', 'linggo', 'naperwisyo', 'aberya', 'pasahero', 'mrt3', 'matatandaan', 'nitong', 'miyerkules', 'tumirik', 'northbound', 'tren', 'mrt', 'shaw', 'boulevard', 'station', 'tumirik', 'tren', 'naman', 'guadalupe', 'boni', 'station', 'nitong', 'martes']\n"
     ]
    }
   ],
   "source": [
    "#split the text per space\n",
    "#print(test_case.split(' '))\n",
    "#initialize empty list for finalization of stopword removal\n",
    "final_test =[]\n",
    "#remove all empty and \\r\\n\n",
    "for word in test_case.split():\n",
    "    if word =='' or '\\r\\n' in word or word in stop_words:\n",
    "        None\n",
    "    else:\n",
    "        final_test.append(word)\n",
    "print(final_test)"
   ]
  },
  {
   "cell_type": "code",
   "execution_count": 30,
   "id": "176a36ec",
   "metadata": {},
   "outputs": [
    {
     "data": {
      "text/plain": [
       "'manila philippines bad morning sumalubong libulibong pasahero metro rail transit mrt3 kahapon umaga makaraang pababain tren dalawang beses aberya biyahe nabatid pinababa pasahero tren bahagi santolan station southbound dakong alas530 umaga matapos bumaba boltahe kuryente ayon mrt3 kinakailangang pababain pasahero itigil operasyon magiging delikado pagpapatakbo tren makakaapekto preno ayon kay mrt3 general manager ramon buenafe depektibong pintuan naman dahilan nang pansamantalang pagtigil southbound trip mrt3 gmakamuning station cubao station dakong alas700 umaga nabatid ikatlong sunod araw ngayong linggo naperwisyo aberya pasahero mrt3 matatandaan nitong miyerkules tumirik northbound tren mrt shaw boulevard station tumirik tren naman guadalupe boni station nitong martes'"
      ]
     },
     "execution_count": 30,
     "metadata": {},
     "output_type": "execute_result"
    }
   ],
   "source": [
    "#lets try to join the final test\n",
    "' '.join(final_test)"
   ]
  },
  {
   "cell_type": "markdown",
   "id": "03b2c23d",
   "metadata": {},
   "source": [
    "## Applying to dataset"
   ]
  },
  {
   "cell_type": "code",
   "execution_count": 31,
   "id": "d5386c59",
   "metadata": {},
   "outputs": [],
   "source": [
    "#make a function pipeline:\n",
    "def remove_stopwords(article,stopwords):\n",
    "    #make a temporary list\n",
    "    temp_fnl = []\n",
    "    for word in article.split():\n",
    "        if word =='' or '\\r\\n' in word or word in stopwords:\n",
    "            None\n",
    "        else:\n",
    "            temp_fnl.append(word)\n",
    "    return ' '.join(temp_fnl)"
   ]
  },
  {
   "cell_type": "code",
   "execution_count": 32,
   "id": "8c9db1cf",
   "metadata": {},
   "outputs": [
    {
     "data": {
      "text/plain": [
       "'manila philippines bad morning sumalubong libulibong pasahero metro rail transit mrt3 kahapon umaga makaraang pababain tren dalawang beses aberya biyahe nabatid pinababa pasahero tren bahagi santolan station southbound dakong alas530 umaga matapos bumaba boltahe kuryente ayon mrt3 kinakailangang pababain pasahero itigil operasyon magiging delikado pagpapatakbo tren makakaapekto preno ayon kay mrt3 general manager ramon buenafe depektibong pintuan naman dahilan nang pansamantalang pagtigil southbound trip mrt3 gmakamuning station cubao station dakong alas700 umaga nabatid ikatlong sunod araw ngayong linggo naperwisyo aberya pasahero mrt3 matatandaan nitong miyerkules tumirik northbound tren mrt shaw boulevard station tumirik tren naman guadalupe boni station nitong martes'"
      ]
     },
     "execution_count": 32,
     "metadata": {},
     "output_type": "execute_result"
    }
   ],
   "source": [
    "remove_stopwords(test_case,stop_words)"
   ]
  },
  {
   "cell_type": "code",
   "execution_count": 33,
   "id": "feeedfc1",
   "metadata": {},
   "outputs": [
    {
     "data": {
      "text/html": [
       "<div>\n",
       "<style scoped>\n",
       "    .dataframe tbody tr th:only-of-type {\n",
       "        vertical-align: middle;\n",
       "    }\n",
       "\n",
       "    .dataframe tbody tr th {\n",
       "        vertical-align: top;\n",
       "    }\n",
       "\n",
       "    .dataframe thead th {\n",
       "        text-align: right;\n",
       "    }\n",
       "</style>\n",
       "<table border=\"1\" class=\"dataframe\">\n",
       "  <thead>\n",
       "    <tr style=\"text-align: right;\">\n",
       "      <th></th>\n",
       "      <th>Article</th>\n",
       "      <th>Category</th>\n",
       "    </tr>\n",
       "  </thead>\n",
       "  <tbody>\n",
       "    <tr>\n",
       "      <th>0</th>\n",
       "      <td>manila philippines bad morning sumalubong libu...</td>\n",
       "      <td>Metro</td>\n",
       "    </tr>\n",
       "    <tr>\n",
       "      <th>1</th>\n",
       "      <td>kabilang bagong panuntunan operational provisi...</td>\n",
       "      <td>Bansa</td>\n",
       "    </tr>\n",
       "    <tr>\n",
       "      <th>2</th>\n",
       "      <td>ibinulong nang asset kuwago ora private army m...</td>\n",
       "      <td>Opinyon</td>\n",
       "    </tr>\n",
       "    <tr>\n",
       "      <th>3</th>\n",
       "      <td>manila philippines iniulat nasawi pasay city h...</td>\n",
       "      <td>Metro</td>\n",
       "    </tr>\n",
       "    <tr>\n",
       "      <th>4</th>\n",
       "      <td>biruin mo nagamit rin niangelika dela cruzang ...</td>\n",
       "      <td>Showbiz</td>\n",
       "    </tr>\n",
       "    <tr>\n",
       "      <th>5</th>\n",
       "      <td>philstarcomfile manila philippines mas paiigti...</td>\n",
       "      <td>Metro</td>\n",
       "    </tr>\n",
       "    <tr>\n",
       "      <th>6</th>\n",
       "      <td>manila philippines ipinalalagay tabriz petroch...</td>\n",
       "      <td>Palaro</td>\n",
       "    </tr>\n",
       "    <tr>\n",
       "      <th>7</th>\n",
       "      <td>inangatan marcio lassiter san miguel sina paul...</td>\n",
       "      <td>Palaro</td>\n",
       "    </tr>\n",
       "    <tr>\n",
       "      <th>8</th>\n",
       "      <td>pik balikrecording si willie revillame siyang ...</td>\n",
       "      <td>Showbiz</td>\n",
       "    </tr>\n",
       "    <tr>\n",
       "      <th>9</th>\n",
       "      <td>manila philippines naniniwala rin simbahang ka...</td>\n",
       "      <td>Bansa</td>\n",
       "    </tr>\n",
       "  </tbody>\n",
       "</table>\n",
       "</div>"
      ],
      "text/plain": [
       "                                             Article Category\n",
       "0  manila philippines bad morning sumalubong libu...    Metro\n",
       "1  kabilang bagong panuntunan operational provisi...    Bansa\n",
       "2  ibinulong nang asset kuwago ora private army m...  Opinyon\n",
       "3  manila philippines iniulat nasawi pasay city h...    Metro\n",
       "4  biruin mo nagamit rin niangelika dela cruzang ...  Showbiz\n",
       "5  philstarcomfile manila philippines mas paiigti...    Metro\n",
       "6  manila philippines ipinalalagay tabriz petroch...   Palaro\n",
       "7  inangatan marcio lassiter san miguel sina paul...   Palaro\n",
       "8  pik balikrecording si willie revillame siyang ...  Showbiz\n",
       "9  manila philippines naniniwala rin simbahang ka...    Bansa"
      ]
     },
     "execution_count": 33,
     "metadata": {},
     "output_type": "execute_result"
    }
   ],
   "source": [
    "#apply to the whole dataset\n",
    "df['Article'] = df['Article'].apply(lambda x: remove_stopwords(x, stop_words))\n",
    "df.head(10)"
   ]
  },
  {
   "cell_type": "markdown",
   "id": "68b1f506",
   "metadata": {},
   "source": [
    "## Tokenization"
   ]
  },
  {
   "cell_type": "code",
   "execution_count": 38,
   "id": "5338e022",
   "metadata": {},
   "outputs": [
    {
     "name": "stderr",
     "output_type": "stream",
     "text": [
      "[nltk_data] Downloading package punkt to\n",
      "[nltk_data]     C:\\Users\\Admin\\AppData\\Roaming\\nltk_data...\n",
      "[nltk_data]   Package punkt is already up-to-date!\n"
     ]
    },
    {
     "data": {
      "text/plain": [
       "True"
      ]
     },
     "execution_count": 38,
     "metadata": {},
     "output_type": "execute_result"
    }
   ],
   "source": [
    "import nltk\n",
    "nltk.download('punkt')  # Download the necessary data for tokenization"
   ]
  },
  {
   "cell_type": "code",
   "execution_count": 39,
   "id": "536c2782",
   "metadata": {},
   "outputs": [],
   "source": [
    "from nltk.tokenize import word_tokenize"
   ]
  },
  {
   "cell_type": "code",
   "execution_count": 40,
   "id": "11dc3444",
   "metadata": {},
   "outputs": [],
   "source": [
    "# Apply word_tokenize function to each article in the 'article' column\n",
    "df['tokenized_article'] = df['Article'].apply(word_tokenize)"
   ]
  },
  {
   "cell_type": "code",
   "execution_count": 37,
   "id": "ae24affa",
   "metadata": {},
   "outputs": [
    {
     "data": {
      "text/plain": [
       "0    [manila, philippines, bad, morning, sumalubong...\n",
       "1    [kabilang, bagong, panuntunan, operational, pr...\n",
       "2    [ibinulong, nang, asset, kuwago, ora, private,...\n",
       "3    [manila, philippines, iniulat, nasawi, pasay, ...\n",
       "4    [biruin, mo, nagamit, rin, niangelika, dela, c...\n",
       "5    [philstarcomfile, manila, philippines, mas, pa...\n",
       "6    [manila, philippines, ipinalalagay, tabriz, pe...\n",
       "7    [inangatan, marcio, lassiter, san, miguel, sin...\n",
       "8    [pik, balikrecording, si, willie, revillame, s...\n",
       "9    [manila, philippines, naniniwala, rin, simbaha...\n",
       "Name: tokenized_article, dtype: object"
      ]
     },
     "execution_count": 37,
     "metadata": {},
     "output_type": "execute_result"
    }
   ],
   "source": [
    "# Print the first 10 tokenized result\n",
    "df['tokenized_article'].head(10)"
   ]
  },
  {
   "cell_type": "code",
   "execution_count": null,
   "id": "84c053a8",
   "metadata": {},
   "outputs": [],
   "source": []
  }
 ],
 "metadata": {
  "kernelspec": {
   "display_name": "Python 3 (ipykernel)",
   "language": "python",
   "name": "python3"
  },
  "language_info": {
   "codemirror_mode": {
    "name": "ipython",
    "version": 3
   },
   "file_extension": ".py",
   "mimetype": "text/x-python",
   "name": "python",
   "nbconvert_exporter": "python",
   "pygments_lexer": "ipython3",
   "version": "3.11.5"
  }
 },
 "nbformat": 4,
 "nbformat_minor": 5
}
